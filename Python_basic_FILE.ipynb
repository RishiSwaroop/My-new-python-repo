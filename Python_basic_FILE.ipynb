{
  "nbformat": 4,
  "nbformat_minor": 0,
  "metadata": {
    "colab": {
      "name": "Python basic FILE",
      "provenance": [],
      "collapsed_sections": []
    },
    "kernelspec": {
      "name": "python3",
      "display_name": "Python 3"
    }
  },
  "cells": [
    {
      "cell_type": "code",
      "metadata": {
        "id": "bJXTb7kiJGee",
        "colab_type": "code",
        "outputId": "e5c07233-1d61-44be-c7a5-9621ee7af774",
        "colab": {
          "base_uri": "https://localhost:8080/",
          "height": 34
        }
      },
      "source": [
        "print(\"hello world\")"
      ],
      "execution_count": 0,
      "outputs": [
        {
          "output_type": "stream",
          "text": [
            "hello world\n"
          ],
          "name": "stdout"
        }
      ]
    },
    {
      "cell_type": "markdown",
      "metadata": {
        "id": "2bH_z8_QK1QV",
        "colab_type": "text"
      },
      "source": [
        "# Advanced certification in AIML\n",
        "## A program by datafolkz\n",
        "### Introduction to Python\n",
        "\n",
        "# Intro to Jupyter Notebook\n",
        "-"
      ]
    },
    {
      "cell_type": "markdown",
      "metadata": {
        "id": "Wo9reGkeNE-8",
        "colab_type": "text"
      },
      "source": [
        "- SHIFT+ENTER FOR EXECUTING THE CELL USING JUPYTER NOTEBOOK\n",
        "\n",
        "SHORTCUT IN BOTH MODE\n",
        "- SHIFT+ENTER RUN THE CURRENT CELL SELECT BELOW\n",
        "-CTRL+ENTER RUN SELECTED CELL\n",
        "-ALT+ENTER RUN THE CURRENT CELL, INSERT CELL\n",
        "-CTRL+S SAVE AND CHECKPOINT\n"
      ]
    },
    {
      "cell_type": "code",
      "metadata": {
        "id": "WpslEjE_Ohvf",
        "colab_type": "code",
        "outputId": "825bb58c-2bad-48bc-98d3-41710b2c35b4",
        "colab": {
          "base_uri": "https://localhost:8080/",
          "height": 34
        }
      },
      "source": [
        "print(\"hello world\")# printing the word hello world"
      ],
      "execution_count": 0,
      "outputs": [
        {
          "output_type": "stream",
          "text": [
            "hello world\n"
          ],
          "name": "stdout"
        }
      ]
    },
    {
      "cell_type": "code",
      "metadata": {
        "id": "z1r6yJIOO5TE",
        "colab_type": "code",
        "outputId": "42aed4db-8d4a-4d78-be83-9492a79ca32e",
        "colab": {
          "base_uri": "https://localhost:8080/",
          "height": 34
        }
      },
      "source": [
        "a=15\n",
        "a"
      ],
      "execution_count": 0,
      "outputs": [
        {
          "output_type": "execute_result",
          "data": {
            "text/plain": [
              "15"
            ]
          },
          "metadata": {
            "tags": []
          },
          "execution_count": 7
        }
      ]
    },
    {
      "cell_type": "markdown",
      "metadata": {
        "id": "vxB-5ssvQZFB",
        "colab_type": "text"
      },
      "source": [
        "- esc+ m for code to markdown\n",
        "- esc +y for markdown to code"
      ]
    },
    {
      "cell_type": "markdown",
      "metadata": {
        "id": "7AgpI8dQQ7OR",
        "colab_type": "text"
      },
      "source": [
        "## JULIA, PYTHON AND R CAN BE DONE USING Jupyter\n"
      ]
    },
    {
      "cell_type": "markdown",
      "metadata": {
        "id": "746jNOiJSU8B",
        "colab_type": "text"
      },
      "source": [
        "Python program is first compiled and then interpreted. "
      ]
    },
    {
      "cell_type": "markdown",
      "metadata": {
        "id": "igAbLtNyS8-I",
        "colab_type": "text"
      },
      "source": [
        "### Lexical structure\n",
        "\n",
        "The lexical structure of a programming language is theset of basic rules that govertn how you write program in that language.\n",
        "\n",
        "it is the lowest-level syntax of the language and specifies such things as what variables names liik loke and which characters denote comments.\n",
        "\n",
        "Each python source file, like any"
      ]
    },
    {
      "cell_type": "markdown",
      "metadata": {
        "id": "2Scxk9OEWQHE",
        "colab_type": "text"
      },
      "source": [
        "## Lines and Indentation\n",
        "•\tA Python program is composed of a sequence of logical lines, each made up of one or more physical lines. Each physical line may end with a comment. \n",
        "A hash sign (#) that is not inside a string literal begins a comment. \n",
        "\n",
        "•\tAll characters after the # and up to the physical line end are part of the comment, and the Python interpreter ignores them. \n",
        "\n",
        "•\tA line containing only whitespace, possibly with a comment, is known as a blank line, and Python totally ignores it. \n",
        "\n",
        "•\tIn an interactive interpreter session, you must enter an empty physical line (without any whitespace or comment) to terminate a multiline statement.\n"
      ]
    },
    {
      "cell_type": "markdown",
      "metadata": {
        "id": "JL7B_BxYbA_U",
        "colab_type": "text"
      },
      "source": [
        "•\tHowever, Python automatically joins adjacent physical lines into one logical line if an open parenthesis ((), bracket ([), or brace ({) has not yet been closed, and taking advantage of this mechanism, generally produces more readable code instead of explicitly inserting backslashes at physical line ends.\n",
        "                                                                                                                                          \n",
        "•\tTriple-quoted string literals can also span physical lines. Physical lines after the first one in a logical line are known as continuation lines. \n",
        "\n",
        "\n"
      ]
    },
    {
      "cell_type": "markdown",
      "metadata": {
        "id": "kwWSGX8Wefat",
        "colab_type": "text"
      },
      "source": [
        ""
      ]
    },
    {
      "cell_type": "code",
      "metadata": {
        "id": "conmF1dIg7Bu",
        "colab_type": "code",
        "colab": {}
      },
      "source": [
        "print(\"Total number of keywords \", len(keyword.kwlist))\n",
        "\n"
      ],
      "execution_count": 0,
      "outputs": []
    },
    {
      "cell_type": "code",
      "metadata": {
        "id": "GLYqVMVIg8Mn",
        "colab_type": "code",
        "outputId": "6e87a63d-31ac-4966-e461-ef50b75dd596",
        "colab": {
          "base_uri": "https://localhost:8080/",
          "height": 34
        }
      },
      "source": [
        "age= 35 \n",
        "print(age)"
      ],
      "execution_count": 0,
      "outputs": [
        {
          "output_type": "stream",
          "text": [
            "35\n"
          ],
          "name": "stdout"
        }
      ]
    },
    {
      "cell_type": "markdown",
      "metadata": {
        "id": "_WBBruX8i5LX",
        "colab_type": "text"
      },
      "source": [
        "## Scalar data types and Operations\n",
        "\n",
        "Python has for scalar data types;\n",
        "  - Integer\n",
        "  - Float\n",
        "  - boolean\n",
        "  - complex\n",
        "\n",
        "we will review these in this notebook\n"
      ]
    },
    {
      "cell_type": "code",
      "metadata": {
        "id": "gZ1RhqjAkkUP",
        "colab_type": "code",
        "outputId": "fcd83fde-bd92-4ba2-a9b3-5e96a6779aff",
        "colab": {
          "base_uri": "https://localhost:8080/",
          "height": 71
        }
      },
      "source": [
        "#Get all keywords in python 3.7\n",
        "\n",
        "import keyword # import the library Keyword\n",
        "\n",
        "print(keyword.kwlist) \n",
        "\n",
        "\n",
        "print(\"Total number of keywords \", len(keyword.kwlist))\n"
      ],
      "execution_count": 0,
      "outputs": [
        {
          "output_type": "stream",
          "text": [
            "['False', 'None', 'True', 'and', 'as', 'assert', 'break', 'class', 'continue', 'def', 'del', 'elif', 'else', 'except', 'finally', 'for', 'from', 'global', 'if', 'import', 'in', 'is', 'lambda', 'nonlocal', 'not', 'or', 'pass', 'raise', 'return', 'try', 'while', 'with', 'yield']\n",
            "Total number of keywords  33\n"
          ],
          "name": "stdout"
        }
      ]
    },
    {
      "cell_type": "code",
      "metadata": {
        "id": "kZ33njjdkrKo",
        "colab_type": "code",
        "outputId": "3c750471-fa27-4497-c031-ca22e20410c9",
        "colab": {
          "base_uri": "https://localhost:8080/",
          "height": 119
        }
      },
      "source": [
        "print(2+4)\n",
        "print(12878+1)\n",
        "print(7-3)\n",
        "print(127-128)\n",
        "print(8*6)\n",
        "print(17*12)"
      ],
      "execution_count": 0,
      "outputs": [
        {
          "output_type": "stream",
          "text": [
            "6\n",
            "12879\n",
            "4\n",
            "-1\n",
            "48\n",
            "204\n"
          ],
          "name": "stdout"
        }
      ]
    },
    {
      "cell_type": "code",
      "metadata": {
        "id": "27kSnCVqlJr_",
        "colab_type": "code",
        "colab": {}
      },
      "source": [
        ""
      ],
      "execution_count": 0,
      "outputs": []
    },
    {
      "cell_type": "markdown",
      "metadata": {
        "id": "9YSneO_7lWZh",
        "colab_type": "text"
      },
      "source": [
        "There are two division operators:\n",
        "    / for everyday (float) division and // for truncating (integer) division\n"
      ]
    },
    {
      "cell_type": "code",
      "metadata": {
        "id": "DznGUyoMlZLF",
        "colab_type": "code",
        "outputId": "886050f2-5afa-41e2-a58e-631dd0bf8c93",
        "colab": {
          "base_uri": "https://localhost:8080/",
          "height": 51
        }
      },
      "source": [
        "print(17/4)\n",
        "print(17//4)"
      ],
      "execution_count": 0,
      "outputs": [
        {
          "output_type": "stream",
          "text": [
            "4.25\n",
            "4\n"
          ],
          "name": "stdout"
        }
      ]
    },
    {
      "cell_type": "markdown",
      "metadata": {
        "id": "VEYXcqMPmCgF",
        "colab_type": "text"
      },
      "source": [
        "the modular operator % and the exponentiation operator ** are also available\n",
        "\n"
      ]
    },
    {
      "cell_type": "code",
      "metadata": {
        "id": "f0Z_u3C9llds",
        "colab_type": "code",
        "outputId": "76f54579-2368-48c7-a767-fd3335b9fd43",
        "colab": {
          "base_uri": "https://localhost:8080/",
          "height": 68
        }
      },
      "source": [
        "print(18 % 3)\n",
        "print(72 % 5)\n",
        "print(2 ** 5)\n"
      ],
      "execution_count": 0,
      "outputs": [
        {
          "output_type": "stream",
          "text": [
            "0\n",
            "2\n",
            "32\n"
          ],
          "name": "stdout"
        }
      ]
    },
    {
      "cell_type": "markdown",
      "metadata": {
        "id": "TmahPRifmvnr",
        "colab_type": "text"
      },
      "source": [
        "the usual operator precedence rule and the use of parentheses to override that are available\n",
        "\n"
      ]
    },
    {
      "cell_type": "code",
      "metadata": {
        "id": "uARaSkpXmp5J",
        "colab_type": "code",
        "outputId": "836a2f33-9f47-4d71-a730-8daea94b0843",
        "colab": {
          "base_uri": "https://localhost:8080/",
          "height": 68
        }
      },
      "source": [
        "print(10**2*7-3)\n",
        "print(100**(2*7)-3)\n",
        "print(10**(2*7-3))"
      ],
      "execution_count": 0,
      "outputs": [
        {
          "output_type": "stream",
          "text": [
            "697\n",
            "9999999999999999999999999997\n",
            "100000000000\n"
          ],
          "name": "stdout"
        }
      ]
    },
    {
      "cell_type": "code",
      "metadata": {
        "id": "m6LHXE-EnwZ8",
        "colab_type": "code",
        "outputId": "a30badc6-6a14-4692-813b-c631648ff0b7",
        "colab": {
          "base_uri": "https://localhost:8080/",
          "height": 231
        }
      },
      "source": [
        "a=123456789\n",
        "b= a ** 2\n",
        "c= b ** 3\n",
        "d= C ** 4\n",
        "e= d ** 5\n",
        "print(e)\n"
      ],
      "execution_count": 0,
      "outputs": [
        {
          "output_type": "error",
          "ename": "NameError",
          "evalue": "ignored",
          "traceback": [
            "\u001b[0;31m---------------------------------------------------------------------------\u001b[0m",
            "\u001b[0;31mNameError\u001b[0m                                 Traceback (most recent call last)",
            "\u001b[0;32m<ipython-input-21-757ba00d4673>\u001b[0m in \u001b[0;36m<module>\u001b[0;34m()\u001b[0m\n\u001b[1;32m      2\u001b[0m \u001b[0mb\u001b[0m\u001b[0;34m=\u001b[0m \u001b[0ma\u001b[0m \u001b[0;34m**\u001b[0m \u001b[0;36m2\u001b[0m\u001b[0;34m\u001b[0m\u001b[0;34m\u001b[0m\u001b[0m\n\u001b[1;32m      3\u001b[0m \u001b[0mc\u001b[0m\u001b[0;34m=\u001b[0m \u001b[0mb\u001b[0m \u001b[0;34m**\u001b[0m \u001b[0;36m3\u001b[0m\u001b[0;34m\u001b[0m\u001b[0;34m\u001b[0m\u001b[0m\n\u001b[0;32m----> 4\u001b[0;31m \u001b[0md\u001b[0m\u001b[0;34m=\u001b[0m \u001b[0mC\u001b[0m \u001b[0;34m**\u001b[0m \u001b[0;36m4\u001b[0m\u001b[0;34m\u001b[0m\u001b[0;34m\u001b[0m\u001b[0m\n\u001b[0m\u001b[1;32m      5\u001b[0m \u001b[0me\u001b[0m\u001b[0;34m=\u001b[0m \u001b[0md\u001b[0m \u001b[0;34m**\u001b[0m \u001b[0;36m5\u001b[0m\u001b[0;34m\u001b[0m\u001b[0;34m\u001b[0m\u001b[0m\n\u001b[1;32m      6\u001b[0m \u001b[0mprint\u001b[0m\u001b[0;34m(\u001b[0m\u001b[0me\u001b[0m\u001b[0;34m)\u001b[0m\u001b[0;34m\u001b[0m\u001b[0;34m\u001b[0m\u001b[0m\n",
            "\u001b[0;31mNameError\u001b[0m: name 'C' is not defined"
          ]
        }
      ]
    },
    {
      "cell_type": "markdown",
      "metadata": {
        "id": "VtKMFi_qoYrW",
        "colab_type": "text"
      },
      "source": [
        "##### Assignment operators\n",
        "The standard assignment operators are available. That is,  $\\alpha$  $\\odot=\\beta$ is a shorthand for $\\alpha = \\alpha \\odot \\beta$\n",
        "where $\\odot$ is any binary arithmetic operator we saw above\n"
      ]
    },
    {
      "cell_type": "code",
      "metadata": {
        "id": "ll8B9h4XoFL7",
        "colab_type": "code",
        "outputId": "ac92c3c7-6b60-4197-d523-727954aa8a41",
        "colab": {
          "base_uri": "https://localhost:8080/",
          "height": 85
        }
      },
      "source": [
        "a = 12\n",
        "b = 5\n",
        "a += b\n",
        "print(a,b)\n",
        "a -= b\n",
        "print(a,b)\n",
        "a *= b\n",
        "print(a,b)\n",
        "a**=b\n",
        "print(a,b)"
      ],
      "execution_count": 0,
      "outputs": [
        {
          "output_type": "stream",
          "text": [
            "17 5\n",
            "12 5\n",
            "60 5\n",
            "777600000 5\n"
          ],
          "name": "stdout"
        }
      ]
    },
    {
      "cell_type": "markdown",
      "metadata": {
        "id": "8EeInpA7qOJN",
        "colab_type": "text"
      },
      "source": [
        "The usual boolean operators are also available: ==, !=, >, >=, <, <= \n",
        "\n",
        "\n",
        "\n"
      ]
    },
    {
      "cell_type": "code",
      "metadata": {
        "id": "O_PWzrMqqUuW",
        "colab_type": "code",
        "outputId": "9e37ae47-bb38-4293-d2fc-80b147ea8566",
        "colab": {
          "base_uri": "https://localhost:8080/",
          "height": 34
        }
      },
      "source": [
        "a=12\n",
        "b=13\n",
        "print(a==b-1,a==b,a!=b,a<b,a>=b)"
      ],
      "execution_count": 0,
      "outputs": [
        {
          "output_type": "stream",
          "text": [
            "True False True True False\n"
          ],
          "name": "stdout"
        }
      ]
    },
    {
      "cell_type": "markdown",
      "metadata": {
        "id": "QeGzbrb3q6zw",
        "colab_type": "text"
      },
      "source": [
        "#### Float\n",
        "Python has a float datatype (and it is the same as C's double!) and the above operations are available\n",
        "\n",
        "\n"
      ]
    },
    {
      "cell_type": "code",
      "metadata": {
        "id": "IQcWppoQqvQx",
        "colab_type": "code",
        "outputId": "8308ef63-327c-49b4-f74b-68c92a9eb2c2",
        "colab": {
          "base_uri": "https://localhost:8080/",
          "height": 231
        }
      },
      "source": [
        "a = 12,9\n",
        "b =3,6\n",
        "c = a+b\n",
        "d = a-b\n",
        "e = a * b\n",
        "f = a / b\n",
        "print(a,b,c,d,e,f, sep=\"\\n\")\n",
        "print(a,b,c,d,e,f)"
      ],
      "execution_count": 0,
      "outputs": [
        {
          "output_type": "error",
          "ename": "TypeError",
          "evalue": "ignored",
          "traceback": [
            "\u001b[0;31m---------------------------------------------------------------------------\u001b[0m",
            "\u001b[0;31mTypeError\u001b[0m                                 Traceback (most recent call last)",
            "\u001b[0;32m<ipython-input-28-3f10a0c618eb>\u001b[0m in \u001b[0;36m<module>\u001b[0;34m()\u001b[0m\n\u001b[1;32m      2\u001b[0m \u001b[0mb\u001b[0m \u001b[0;34m=\u001b[0m\u001b[0;36m3\u001b[0m\u001b[0;34m,\u001b[0m\u001b[0;36m6\u001b[0m\u001b[0;34m\u001b[0m\u001b[0;34m\u001b[0m\u001b[0m\n\u001b[1;32m      3\u001b[0m \u001b[0mc\u001b[0m \u001b[0;34m=\u001b[0m \u001b[0ma\u001b[0m\u001b[0;34m+\u001b[0m\u001b[0mb\u001b[0m\u001b[0;34m\u001b[0m\u001b[0;34m\u001b[0m\u001b[0m\n\u001b[0;32m----> 4\u001b[0;31m \u001b[0md\u001b[0m \u001b[0;34m=\u001b[0m \u001b[0ma\u001b[0m\u001b[0;34m-\u001b[0m\u001b[0mb\u001b[0m\u001b[0;34m\u001b[0m\u001b[0;34m\u001b[0m\u001b[0m\n\u001b[0m\u001b[1;32m      5\u001b[0m \u001b[0me\u001b[0m \u001b[0;34m=\u001b[0m \u001b[0ma\u001b[0m \u001b[0;34m*\u001b[0m \u001b[0mb\u001b[0m\u001b[0;34m\u001b[0m\u001b[0;34m\u001b[0m\u001b[0m\n\u001b[1;32m      6\u001b[0m \u001b[0mf\u001b[0m \u001b[0;34m=\u001b[0m \u001b[0ma\u001b[0m \u001b[0;34m/\u001b[0m \u001b[0mb\u001b[0m\u001b[0;34m\u001b[0m\u001b[0;34m\u001b[0m\u001b[0m\n",
            "\u001b[0;31mTypeError\u001b[0m: unsupported operand type(s) for -: 'tuple' and 'tuple'"
          ]
        }
      ]
    },
    {
      "cell_type": "code",
      "metadata": {
        "id": "Fr0N1cEcr4v0",
        "colab_type": "code",
        "outputId": "9929e83b-7a1a-45f1-9a73-fd0c2575c340",
        "colab": {
          "base_uri": "https://localhost:8080/",
          "height": 85
        }
      },
      "source": [
        ""
      ],
      "execution_count": 0,
      "outputs": [
        {
          "output_type": "stream",
          "text": [
            "(3-4j)\n",
            "3.0\n",
            "-4.0\n",
            "5.0\n"
          ],
          "name": "stdout"
        }
      ]
    },
    {
      "cell_type": "code",
      "metadata": {
        "id": "w8g1X6CiswAt",
        "colab_type": "code",
        "outputId": "561ee3e5-5fd9-4f43-aada-01741a759064",
        "colab": {
          "base_uri": "https://localhost:8080/",
          "height": 180
        }
      },
      "source": [
        "x=5+12j\n",
        "print(z+x,z-x,z*x,x/z,sep=\"\\n\")\n",
        "z=3-4j\n",
        "print(z,z.real,z.imag,abs(z),sep=\"\\n\")"
      ],
      "execution_count": 0,
      "outputs": [
        {
          "output_type": "error",
          "ename": "NameError",
          "evalue": "ignored",
          "traceback": [
            "\u001b[0;31m---------------------------------------------------------------------------\u001b[0m",
            "\u001b[0;31mNameError\u001b[0m                                 Traceback (most recent call last)",
            "\u001b[0;32m<ipython-input-1-5d28fd1ef08a>\u001b[0m in \u001b[0;36m<module>\u001b[0;34m()\u001b[0m\n\u001b[1;32m      1\u001b[0m \u001b[0mx\u001b[0m\u001b[0;34m=\u001b[0m\u001b[0;36m5\u001b[0m\u001b[0;34m+\u001b[0m\u001b[0;36m12j\u001b[0m\u001b[0;34m\u001b[0m\u001b[0;34m\u001b[0m\u001b[0m\n\u001b[0;32m----> 2\u001b[0;31m \u001b[0mprint\u001b[0m\u001b[0;34m(\u001b[0m\u001b[0mz\u001b[0m\u001b[0;34m+\u001b[0m\u001b[0mx\u001b[0m\u001b[0;34m,\u001b[0m\u001b[0mz\u001b[0m\u001b[0;34m-\u001b[0m\u001b[0mx\u001b[0m\u001b[0;34m,\u001b[0m\u001b[0mz\u001b[0m\u001b[0;34m*\u001b[0m\u001b[0mx\u001b[0m\u001b[0;34m,\u001b[0m\u001b[0mx\u001b[0m\u001b[0;34m/\u001b[0m\u001b[0mz\u001b[0m\u001b[0;34m,\u001b[0m\u001b[0msep\u001b[0m\u001b[0;34m=\u001b[0m\u001b[0;34m\"\\n\"\u001b[0m\u001b[0;34m)\u001b[0m\u001b[0;34m\u001b[0m\u001b[0;34m\u001b[0m\u001b[0m\n\u001b[0m",
            "\u001b[0;31mNameError\u001b[0m: name 'z' is not defined"
          ]
        }
      ]
    },
    {
      "cell_type": "markdown",
      "metadata": {
        "id": "65h83gemDkF5",
        "colab_type": "text"
      },
      "source": [
        "## Variable name – Identifiers\n",
        "Variable name is known as identifier. There are few rules that you have to follow while naming the variables in Python.\n",
        "- The name of the variable must always start with either a letter or an underscore (_). For example:  _str, str, num, _num are all valid name for the variables.- The name of the variable cannot start with a number. For example: 9num is not a valid variable name.- The name of the variable cannot have special characters such as %, $, # etc, they can only have alphanumeric characters and underscore (A to Z, a to z, 0-9 or _ ).- Variable name is case sensitive in Python which means num and NUM are two different variables in python.\n"
      ]
    },
    {
      "cell_type": "code",
      "metadata": {
        "id": "WTocN94ODncg",
        "colab_type": "code",
        "colab": {}
      },
      "source": [
        ""
      ],
      "execution_count": 0,
      "outputs": []
    },
    {
      "cell_type": "markdown",
      "metadata": {
        "id": "EjVcURJiFFw2",
        "colab_type": "text"
      },
      "source": [
        "## Variables in Python\n",
        "Variables are used to store data, they take memory space based on the type of value we assigning to them. Creating variables in Python is simple, you just have write the variable name on the left side of = and the value on the right side, as shown below. You do not have to explicitly mention the type of the variable, python infer the type based on the value we are assigning."
      ]
    },
    {
      "cell_type": "code",
      "metadata": {
        "id": "OQCgFplhFHrq",
        "colab_type": "code",
        "outputId": "328ba004-0231-415d-a7fa-6bc2a83e362f",
        "colab": {
          "base_uri": "https://localhost:8080/",
          "height": 51
        }
      },
      "source": [
        "# python variable Example\n",
        "age=35\n",
        "Name= \"ARAVIND\"\n",
        "print(age)\n",
        "print(Name)"
      ],
      "execution_count": 0,
      "outputs": [
        {
          "output_type": "stream",
          "text": [
            "35\n",
            "ARAVIND\n"
          ],
          "name": "stdout"
        }
      ]
    },
    {
      "cell_type": "code",
      "metadata": {
        "id": "6VGOqFu7GCcK",
        "colab_type": "code",
        "outputId": "6a72ddb8-f3d5-4374-cbd8-9e0682341596",
        "colab": {
          "base_uri": "https://localhost:8080/",
          "height": 34
        }
      },
      "source": [
        "# first positon of the variable can be uderscore\n",
        "_age=35\n",
        "print(age)"
      ],
      "execution_count": 0,
      "outputs": [
        {
          "output_type": "stream",
          "text": [
            "35\n"
          ],
          "name": "stdout"
        }
      ]
    },
    {
      "cell_type": "code",
      "metadata": {
        "id": "jTC29_FbGry9",
        "colab_type": "code",
        "outputId": "6990bb75-6e8b-4b96-f3bf-8ef7d2dedb7f",
        "colab": {
          "base_uri": "https://localhost:8080/",
          "height": 68
        }
      },
      "source": [
        "x,y,z=2,7,\"car\"\n",
        "print(x,y,z,sep=\"\\n\")\n"
      ],
      "execution_count": 0,
      "outputs": [
        {
          "output_type": "stream",
          "text": [
            "2\n",
            "7\n",
            "car\n"
          ],
          "name": "stdout"
        }
      ]
    },
    {
      "cell_type": "markdown",
      "metadata": {
        "id": "8UvjkXweJNOV",
        "colab_type": "text"
      },
      "source": [
        "# Data Types\n",
        "\n",
        "A data type defines the type of data, for example 650 is an integer data while “Aravind” is a String type of data. \n",
        "The data types in Python are divided in two categories:\n",
        "1. Immutable data types – Values cannot be changed.\n",
        "2. Mutable data types – Values can be changed\n",
        "\n",
        "Immutable data types in Python are:\n",
        "1. Numbers\n",
        "2. String\n",
        "3. Tuple\n",
        "\n",
        "Mutable data types in Python are:\n",
        "1. List\n",
        "2. Dictionaries\n",
        "3. Sets\n"
      ]
    },
    {
      "cell_type": "markdown",
      "metadata": {
        "id": "5KgIXuMPJPPE",
        "colab_type": "text"
      },
      "source": [
        "z=9\n",
        "print(z)"
      ]
    },
    {
      "cell_type": "code",
      "metadata": {
        "id": "5tbtOzf2JtkQ",
        "colab_type": "code",
        "outputId": "8c5f4bf5-385c-4351-fb9c-d84fd6a7de92",
        "colab": {
          "base_uri": "https://localhost:8080/",
          "height": 51
        }
      },
      "source": [
        "num=120\n",
        "print(num)\n",
        "print(\"data type is unmutable\" )"
      ],
      "execution_count": 0,
      "outputs": [
        {
          "output_type": "stream",
          "text": [
            "120\n",
            "data type is unmutable\n"
          ],
          "name": "stdout"
        }
      ]
    },
    {
      "cell_type": "markdown",
      "metadata": {
        "id": "EOZhkzzWKRRQ",
        "colab_type": "text"
      },
      "source": [
        "# 2. Python Data Type – String\n",
        "String is a sequence of characters in Python. The data type of String in Python is called “str”.\n",
        "\n",
        "Python strings can be enlosed in single quotes or double quotes or triple quotes! Let us look at each of them \n"
      ]
    },
    {
      "cell_type": "markdown",
      "metadata": {
        "id": "BFY5KvQ_Karb",
        "colab_type": "text"
      },
      "source": [
        "## 1.Numeric Data Type in Python\n",
        "\n",
        "#### Integer  \n",
        "In Python 3, there is no upper bound on the integer number which means we can have the value as large as our system memory allows.\n"
      ]
    },
    {
      "cell_type": "markdown",
      "metadata": {
        "id": "eY30gwaVKqOm",
        "colab_type": "text"
      },
      "source": [
        "#### Float \n",
        "Values with decimal points are the float values, there is no need to specify the data type in Python. It is automatically inferred based on the value we are assigning to a variable. \n",
        "For example here float_num is a float data type.\n"
      ]
    },
    {
      "cell_type": "markdown",
      "metadata": {
        "id": "2emFf_cLKvwo",
        "colab_type": "text"
      },
      "source": [
        "#### Complex Number \n",
        "Numbers with real and imaginary parts are known as complex numbers. \n",
        "Unlike other programming language such as Java, Python is able to identify these complex numbers with the values. In the following example when we print the type of the variable complex_num, it prints as complex number.\n"
      ]
    },
    {
      "cell_type": "code",
      "metadata": {
        "id": "1MaYkmyPKvg4",
        "colab_type": "code",
        "outputId": "a9babf13-8931-46c9-ac45-17486c7f236c",
        "colab": {
          "base_uri": "https://localhost:8080/",
          "height": 34
        }
      },
      "source": [
        "S1=\"S1 is a string\"\n",
        "print(S1)"
      ],
      "execution_count": 0,
      "outputs": [
        {
          "output_type": "stream",
          "text": [
            "S1 is a string\n"
          ],
          "name": "stdout"
        }
      ]
    },
    {
      "cell_type": "code",
      "metadata": {
        "id": "y3q1nM9tKL89",
        "colab_type": "code",
        "outputId": "f5737b4d-2171-4de3-a84f-73bddcc2d802",
        "colab": {
          "base_uri": "https://localhost:8080/",
          "height": 51
        }
      },
      "source": [
        "grading=\"texts,quizess,Individual labs, group labs and hackathon\"\n",
        "print(grading)\n",
        "type(grading)\n"
      ],
      "execution_count": 0,
      "outputs": [
        {
          "output_type": "stream",
          "text": [
            "texts,quizess,Individual labs, group labs and hackathon\n"
          ],
          "name": "stdout"
        },
        {
          "output_type": "execute_result",
          "data": {
            "text/plain": [
              "str"
            ]
          },
          "metadata": {
            "tags": []
          },
          "execution_count": 15
        }
      ]
    },
    {
      "cell_type": "code",
      "metadata": {
        "id": "2yZ5RH-eLfYm",
        "colab_type": "code",
        "outputId": "f1afef88-4ff0-4601-e1a2-e7eaf590a4de",
        "colab": {
          "base_uri": "https://localhost:8080/",
          "height": 34
        }
      },
      "source": [
        "tests=\"CFU's,analutical,reference and comprehension\"\n",
        "print(tests)"
      ],
      "execution_count": 0,
      "outputs": [
        {
          "output_type": "stream",
          "text": [
            "CFU's,analutical,reference and comprehension\n"
          ],
          "name": "stdout"
        }
      ]
    },
    {
      "cell_type": "code",
      "metadata": {
        "id": "rIMbZaH2MF7I",
        "colab_type": "code",
        "outputId": "ff3b8f2a-1ec9-47f7-e73b-fad0c571224b",
        "colab": {
          "base_uri": "https://localhost:8080/",
          "height": 34
        }
      },
      "source": [
        "faq='almostall ask the question\"what is the best k\"? '\n",
        "print(faq)"
      ],
      "execution_count": 0,
      "outputs": [
        {
          "output_type": "stream",
          "text": [
            "almostall ask the question\"what is the best k\"? \n"
          ],
          "name": "stdout"
        }
      ]
    },
    {
      "cell_type": "markdown",
      "metadata": {
        "id": "UGd9SNG8MvbN",
        "colab_type": "text"
      },
      "source": [
        "Triple quoted strings are best used for documentation. But they are useful for storing long strings.\n",
        " * We can use single or double quotes\n",
        " * We can also use single quotes or dowuble quotes within\n",
        " * The line breaks etc are captured; that is there is no need for \\n\n"
      ]
    },
    {
      "cell_type": "markdown",
      "metadata": {
        "id": "VePdygvcM19U",
        "colab_type": "text"
      },
      "source": [
        "story = \"\"\"A long time ago, in a galaxy far far away ...\n",
        "\n",
        "It is a period of civil war. Rebel spaceships, striking \n",
        "from a hidden base, have won their first victory against \n",
        "the evil Galactic Empire.\n",
        "\n",
        "During the battle, Rebel spies managed to steal secret \n",
        "plans to the Empire's ultimate weapon, the DEATH STAR, \n",
        "an armored space station with enough power to destroy an entire planet.\n",
        "\n",
        "Pursued by the Empire's sinister agents, Princess Leia \n",
        "races home aboard her starship, custodian of the stolen \n",
        "plans that can save her people and restore freedom to the galaxy....\"\"\"\n",
        "print(story)\n"
      ]
    },
    {
      "cell_type": "code",
      "metadata": {
        "id": "nSPc4Q1jMn4R",
        "colab_type": "code",
        "outputId": "724943fd-28af-4b0c-ade5-b8a195ad93a2",
        "colab": {
          "base_uri": "https://localhost:8080/",
          "height": 238
        }
      },
      "source": [
        "story = \"\"\"A long time ago, in a galaxy far far away ...\n",
        "\n",
        "It is a period of civil war. Rebel spaceships, striking \n",
        "from a hidden base, have won their first victory against \n",
        "the evil Galactic Empire.\n",
        "\n",
        "During the battle, Rebel spies managed to steal secret \n",
        "plans to the Empire's ultimate weapon, the DEATH STAR, \n",
        "an armored space station with enough power to destroy an entire planet.\n",
        "\n",
        "Pursued by the Empire's sinister agents, Princess Leia \n",
        "races home aboard her starship, custodian of the stolen \n",
        "plans that can save her people and restore freedom to the galaxy....\"\"\"\n",
        "print(story)\n"
      ],
      "execution_count": 0,
      "outputs": [
        {
          "output_type": "stream",
          "text": [
            "A long time ago, in a galaxy far far away ...\n",
            "\n",
            "It is a period of civil war. Rebel spaceships, striking \n",
            "from a hidden base, have won their first victory against \n",
            "the evil Galactic Empire.\n",
            "\n",
            "During the battle, Rebel spies managed to steal secret \n",
            "plans to the Empire's ultimate weapon, the DEATH STAR, \n",
            "an armored space station with enough power to destroy an entire planet.\n",
            "\n",
            "Pursued by the Empire's sinister agents, Princess Leia \n",
            "races home aboard her starship, custodian of the stolen \n",
            "plans that can save her people and restore freedom to the galaxy....\n"
          ],
          "name": "stdout"
        }
      ]
    },
    {
      "cell_type": "markdown",
      "metadata": {
        "id": "XC3AKGGZNMrI",
        "colab_type": "text"
      },
      "source": [
        "##### Simple string operations\n",
        " * Concatnate by +, \n",
        " * multiple concatenation by * \n",
        " * check for substring with **in**\n",
        " * determine the size (number of characters) using *len*\n"
      ]
    },
    {
      "cell_type": "code",
      "metadata": {
        "id": "6D9oO0oENDk2",
        "colab_type": "code",
        "outputId": "3ea9f091-f2cf-4a20-943d-6aba58c0e198",
        "colab": {
          "base_uri": "https://localhost:8080/",
          "height": 119
        }
      },
      "source": [
        "h=\"hello\"\n",
        "w=\"world\"\n",
        "hw=h+w\n",
        "print(hw)\n",
        "hsw=h+' '+w\n",
        "print(hsw)\n",
        "h4s3w2=4*h+\" \"*3+w*2\n",
        "print(h4s3w2)\n",
        "print(h in hsw)\n",
        "print(' ' in hw)\n",
        "print(len(h4s3w2))"
      ],
      "execution_count": 0,
      "outputs": [
        {
          "output_type": "stream",
          "text": [
            "helloworld\n",
            "hello world\n",
            "hellohellohellohello   worldworld\n",
            "True\n",
            "False\n",
            "33\n"
          ],
          "name": "stdout"
        }
      ]
    },
    {
      "cell_type": "markdown",
      "metadata": {
        "id": "usw4zHcRWaXh",
        "colab_type": "text"
      },
      "source": [
        "## 3. Python Data Type – Tuple\n",
        "\n",
        "Tuple is immutable data type in Python which means it cannot be changed. It is an ordered collection of elements enclosed in round brackets and separated by commas.\n"
      ]
    },
    {
      "cell_type": "markdown",
      "metadata": {
        "id": "mVehikAeXLhv",
        "colab_type": "text"
      },
      "source": [
        "- Collection of elements with different data types`\n",
        "- Tuple is an ordered sequence of items same as list.`\n",
        "- The only difference is that tuples are immutable. Tuples once created cannot be modified.`\n",
        "- Tuples are just like lists, but you cannot modify their values. The initial values are the value\n"
      ]
    },
    {
      "cell_type": "markdown",
      "metadata": {
        "id": "PedbJcm5WvKV",
        "colab_type": "text"
      },
      "source": [
        "- The easiest way to create one is with a comma-separated sequence of values created by `( )` and `tuple( )`\n",
        "- The easiest way to create one is with a comma-separated sequence of values.\n"
      ]
    },
    {
      "cell_type": "code",
      "metadata": {
        "id": "axxGSQD_WY_h",
        "colab_type": "code",
        "outputId": "c88341a9-614e-4f50-9801-375c9d6e5479",
        "colab": {
          "base_uri": "https://localhost:8080/",
          "height": 51
        }
      },
      "source": [
        "tup=10,20,30,40,50,\"datafolkz\"\n",
        "print(tup)\n",
        "type(tup)"
      ],
      "execution_count": 0,
      "outputs": [
        {
          "output_type": "stream",
          "text": [
            "(10, 20, 30, 40, 50, 'datafolkz')\n"
          ],
          "name": "stdout"
        },
        {
          "output_type": "execute_result",
          "data": {
            "text/plain": [
              "tuple"
            ]
          },
          "metadata": {
            "tags": []
          },
          "execution_count": 25
        }
      ]
    },
    {
      "cell_type": "code",
      "metadata": {
        "id": "sogYxK4JTI96",
        "colab_type": "code",
        "outputId": "0e09c426-a7d6-4b3e-a21d-533fc504789b",
        "colab": {
          "base_uri": "https://localhost:8080/",
          "height": 85
        }
      },
      "source": [
        "t1=(10,2,32,42,57)\n",
        "print(t1)\n",
        "t2=(\"hey\",\"anjali\",\"hello\")\n",
        "print(t2)\n",
        "t3=(22,\"sarah\",456,\"milly\")\n",
        "print(t3)\n",
        "type(t3)"
      ],
      "execution_count": 0,
      "outputs": [
        {
          "output_type": "stream",
          "text": [
            "(10, 2, 32, 42, 57)\n",
            "('hey', 'anjali', 'hello')\n",
            "(22, 'sarah', 456, 'milly')\n"
          ],
          "name": "stdout"
        },
        {
          "output_type": "execute_result",
          "data": {
            "text/plain": [
              "tuple"
            ]
          },
          "metadata": {
            "tags": []
          },
          "execution_count": 29
        }
      ]
    },
    {
      "cell_type": "code",
      "metadata": {
        "id": "D5-i7-MjOnrA",
        "colab_type": "code",
        "outputId": "87761972-b5a3-4d1b-cdbf-9473e60f4a6b",
        "colab": {
          "base_uri": "https://localhost:8080/",
          "height": 34
        }
      },
      "source": [
        "x-3\n",
        "print(x)"
      ],
      "execution_count": 0,
      "outputs": [
        {
          "output_type": "stream",
          "text": [
            "2\n"
          ],
          "name": "stdout"
        }
      ]
    },
    {
      "cell_type": "code",
      "metadata": {
        "id": "EA1kNMF1X9vj",
        "colab_type": "code",
        "outputId": "cd46b48a-c8ba-464b-e93b-1c5f680d1def",
        "colab": {
          "base_uri": "https://localhost:8080/",
          "height": 34
        }
      },
      "source": [
        "name=\"Aravind\"\n",
        "len(name)\n"
      ],
      "execution_count": 0,
      "outputs": [
        {
          "output_type": "execute_result",
          "data": {
            "text/plain": [
              "7"
            ]
          },
          "metadata": {
            "tags": []
          },
          "execution_count": 39
        }
      ]
    },
    {
      "cell_type": "code",
      "metadata": {
        "id": "npy8rJmHaO5R",
        "colab_type": "code",
        "outputId": "cdb3a875-e5dc-4413-c8ef-58e6b88750e0",
        "colab": {
          "base_uri": "https://localhost:8080/",
          "height": 197
        }
      },
      "source": [
        "t1=(10,2,32,42,57)\n",
        "t1[3]\n",
        "t1[3]=47"
      ],
      "execution_count": 0,
      "outputs": [
        {
          "output_type": "error",
          "ename": "TypeError",
          "evalue": "ignored",
          "traceback": [
            "\u001b[0;31m---------------------------------------------------------------------------\u001b[0m",
            "\u001b[0;31mTypeError\u001b[0m                                 Traceback (most recent call last)",
            "\u001b[0;32m<ipython-input-34-549ba51740f0>\u001b[0m in \u001b[0;36m<module>\u001b[0;34m()\u001b[0m\n\u001b[1;32m      1\u001b[0m \u001b[0mt1\u001b[0m\u001b[0;34m=\u001b[0m\u001b[0;34m(\u001b[0m\u001b[0;36m10\u001b[0m\u001b[0;34m,\u001b[0m\u001b[0;36m2\u001b[0m\u001b[0;34m,\u001b[0m\u001b[0;36m32\u001b[0m\u001b[0;34m,\u001b[0m\u001b[0;36m42\u001b[0m\u001b[0;34m,\u001b[0m\u001b[0;36m57\u001b[0m\u001b[0;34m)\u001b[0m\u001b[0;34m\u001b[0m\u001b[0;34m\u001b[0m\u001b[0m\n\u001b[1;32m      2\u001b[0m \u001b[0mt1\u001b[0m\u001b[0;34m[\u001b[0m\u001b[0;36m3\u001b[0m\u001b[0;34m]\u001b[0m\u001b[0;34m\u001b[0m\u001b[0;34m\u001b[0m\u001b[0m\n\u001b[0;32m----> 3\u001b[0;31m \u001b[0mt1\u001b[0m\u001b[0;34m[\u001b[0m\u001b[0;36m3\u001b[0m\u001b[0;34m]\u001b[0m\u001b[0;34m=\u001b[0m\u001b[0;36m47\u001b[0m\u001b[0;34m\u001b[0m\u001b[0;34m\u001b[0m\u001b[0m\n\u001b[0m",
            "\u001b[0;31mTypeError\u001b[0m: 'tuple' object does not support item assignment"
          ]
        }
      ]
    },
    {
      "cell_type": "markdown",
      "metadata": {
        "id": "ZCeeFUmmcNsx",
        "colab_type": "text"
      },
      "source": [
        "## 4.Python Data Type – List\n",
        "List is similar to tuple, it is also an ordered collection of elements, however list is a mutable data type which means it can be changed unlike tuple which is an immutable data type.\n",
        "\n",
        "A list is enclosed with square brackets and elements are separated by commas\n",
        "\n",
        "A list is heterogenous; that is the data types of the things need not be the same.\n",
        "\n"
      ]
    },
    {
      "cell_type": "markdown",
      "metadata": {
        "id": "YS51AGBUj0is",
        "colab_type": "text"
      },
      "source": [
        "## 5. Python Data Type – Dictionary\n",
        "Dictionary is a collection of key and value pairs. A dictionary doesn’t allow duplicate keys but the values can be duplicate. It is an ordered, indexed and mutable collection of elements. \n",
        "\n",
        "- The keys in a dictionary doesn’t necessarily to be a single data type.\n",
        "\n",
        "- In Python, dictionaries are defined within braces {} with each item being a pair in the form key:value. Key and   value can be of any type.`\n",
        "\n",
        "- To declare a dictionary, you write dictionaryName = {dictionary key : data}`\n"
      ]
    },
    {
      "cell_type": "code",
      "metadata": {
        "id": "_bdq7FEbhu7k",
        "colab_type": "code",
        "outputId": "6cde74ea-4f88-4967-8536-f8cc8fb16aa6",
        "colab": {
          "base_uri": "https://localhost:8080/",
          "height": 85
        }
      },
      "source": [
        "my_dict = {'India':'New delhi','Srilanka':'Colombo','Bangladesh':'Dakha','Bhutan':'Thimpu'}\n",
        "my_dict\n"
      ],
      "execution_count": 0,
      "outputs": [
        {
          "output_type": "execute_result",
          "data": {
            "text/plain": [
              "{'Bangladesh': 'Dakha',\n",
              " 'Bhutan': 'Thimpu',\n",
              " 'India': 'New delhi',\n",
              " 'Srilanka': 'Colombo'}"
            ]
          },
          "metadata": {
            "tags": []
          },
          "execution_count": 66
        }
      ]
    },
    {
      "cell_type": "code",
      "metadata": {
        "id": "qWy2gXCblIgb",
        "colab_type": "code",
        "colab": {}
      },
      "source": [
        "emp={'Name':['Raju','Raghav','ram'],'Age':[27,25,26],'designation':[ds,]}"
      ],
      "execution_count": 0,
      "outputs": []
    },
    {
      "cell_type": "code",
      "metadata": {
        "id": "8kB3jcgFmHHb",
        "colab_type": "code",
        "outputId": "21faa2fa-891a-4d5b-a271-663f180b6975",
        "colab": {
          "base_uri": "https://localhost:8080/",
          "height": 51
        }
      },
      "source": [
        "f = [1, 1, 2, 3, 5, 8]\n",
        "p = [2, 3, 5, 7]\n",
        "grading = [\"Tests\", \"Quizzes\", \"Individual Labs\", \"Group Labs\", \"Hackathons\"]\n",
        "grades = [300, 60, 120, 60, 120]\n",
        "oddjob = [1, 5.6, True, 4-7j, \"Hello\", [1, 2], [3.9, \"World\"]]\n",
        "print(f)\n",
        "print(grading)\n"
      ],
      "execution_count": 0,
      "outputs": [
        {
          "output_type": "stream",
          "text": [
            "[1, 1, 2, 3, 5, 8]\n",
            "['Tests', 'Quizzes', 'Individual Labs', 'Group Labs', 'Hackathons']\n"
          ],
          "name": "stdout"
        }
      ]
    },
    {
      "cell_type": "markdown",
      "metadata": {
        "id": "TFly4kKeID9U",
        "colab_type": "text"
      },
      "source": [
        "## Sets\n",
        "\n",
        "- Collection of elements with different data types \n",
        "- Collection unique elements\n",
        "- Indexing can not  be performed in set\n",
        "- Sets follow order \n",
        "- sets can be built using `set() and {  } \n"
      ]
    },
    {
      "cell_type": "code",
      "metadata": {
        "id": "PwTxrZwJIFDb",
        "colab_type": "code",
        "outputId": "b267bf51-16f4-4107-869b-b4c8da968a6d",
        "colab": {
          "base_uri": "https://localhost:8080/",
          "height": 34
        }
      },
      "source": [
        "myset1=set(['Data science','AI','Machine learning','Statistics'])\n",
        "myset1"
      ],
      "execution_count": 0,
      "outputs": [
        {
          "output_type": "execute_result",
          "data": {
            "text/plain": [
              "{'AI', 'Data science', 'Machine learning', 'Statistics'}"
            ]
          },
          "metadata": {
            "tags": []
          },
          "execution_count": 6
        }
      ]
    },
    {
      "cell_type": "code",
      "metadata": {
        "id": "znM4QnCImJXl",
        "colab_type": "code",
        "outputId": "81c9ccfe-c4b4-4d4d-b856-6c9093afdf84",
        "colab": {
          "base_uri": "https://localhost:8080/",
          "height": 34
        }
      },
      "source": [
        "A = {1,1,1,2,2,5,10,5,80,55,55,60,True,False,0}\n",
        "A"
      ],
      "execution_count": 0,
      "outputs": [
        {
          "output_type": "execute_result",
          "data": {
            "text/plain": [
              "{False, 1, 2, 5, 10, 55, 60, 80}"
            ]
          },
          "metadata": {
            "tags": []
          },
          "execution_count": 11
        }
      ]
    },
    {
      "cell_type": "code",
      "metadata": {
        "id": "7_N67OJuKK1d",
        "colab_type": "code",
        "outputId": "1bfb7446-9bfe-456e-c473-608a2f31f986",
        "colab": {
          "base_uri": "https://localhost:8080/",
          "height": 34
        }
      },
      "source": [
        "type(A)"
      ],
      "execution_count": 0,
      "outputs": [
        {
          "output_type": "execute_result",
          "data": {
            "text/plain": [
              "set"
            ]
          },
          "metadata": {
            "tags": []
          },
          "execution_count": 8
        }
      ]
    },
    {
      "cell_type": "code",
      "metadata": {
        "id": "AdxcMyecKTrA",
        "colab_type": "code",
        "outputId": "56c3a559-f835-40e5-d8b2-9c379807d3e0",
        "colab": {
          "base_uri": "https://localhost:8080/",
          "height": 34
        }
      },
      "source": [
        "len(A)"
      ],
      "execution_count": 0,
      "outputs": [
        {
          "output_type": "execute_result",
          "data": {
            "text/plain": [
              "8"
            ]
          },
          "metadata": {
            "tags": []
          },
          "execution_count": 9
        }
      ]
    },
    {
      "cell_type": "code",
      "metadata": {
        "id": "kNRjBU9cKWxI",
        "colab_type": "code",
        "outputId": "9ecd11ea-9c9d-4f3b-9646-2c43d9b1c255",
        "colab": {
          "base_uri": "https://localhost:8080/",
          "height": 163
        }
      },
      "source": [
        "A[0]"
      ],
      "execution_count": 0,
      "outputs": [
        {
          "output_type": "error",
          "ename": "TypeError",
          "evalue": "ignored",
          "traceback": [
            "\u001b[0;31m---------------------------------------------------------------------------\u001b[0m",
            "\u001b[0;31mTypeError\u001b[0m                                 Traceback (most recent call last)",
            "\u001b[0;32m<ipython-input-12-782c0e2fe61c>\u001b[0m in \u001b[0;36m<module>\u001b[0;34m()\u001b[0m\n\u001b[0;32m----> 1\u001b[0;31m \u001b[0mA\u001b[0m\u001b[0;34m[\u001b[0m\u001b[0;36m0\u001b[0m\u001b[0;34m]\u001b[0m\u001b[0;34m\u001b[0m\u001b[0;34m\u001b[0m\u001b[0m\n\u001b[0m",
            "\u001b[0;31mTypeError\u001b[0m: 'set' object does not support indexing"
          ]
        }
      ]
    },
    {
      "cell_type": "markdown",
      "metadata": {
        "id": "pWGNXbhmMKS5",
        "colab_type": "text"
      },
      "source": [
        ""
      ]
    },
    {
      "cell_type": "code",
      "metadata": {
        "id": "91Eq1_dFLXix",
        "colab_type": "code",
        "colab": {}
      },
      "source": [
        ""
      ],
      "execution_count": 0,
      "outputs": []
    }
  ]
}
